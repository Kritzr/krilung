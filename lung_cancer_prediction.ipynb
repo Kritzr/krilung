{
  "nbformat": 4,
  "nbformat_minor": 0,
  "metadata": {
    "colab": {
      "provenance": []
    },
    "kernelspec": {
      "name": "python3",
      "display_name": "Python 3"
    },
    "language_info": {
      "name": "python"
    }
  },
  "cells": [
    {
      "cell_type": "code",
      "execution_count": 1,
      "metadata": {
        "colab": {
          "base_uri": "https://localhost:8080/"
        },
        "id": "vx640tWzStX7",
        "outputId": "d2f43957-c228-4296-9043-d4220aacd8b4"
      },
      "outputs": [
        {
          "output_type": "stream",
          "name": "stdout",
          "text": [
            "lung prediction\n"
          ]
        }
      ],
      "source": [
        "print(\"lung prediction\")"
      ]
    }
  ]
}